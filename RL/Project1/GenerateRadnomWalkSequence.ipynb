{
 "cells": [
  {
   "cell_type": "code",
   "execution_count": 1,
   "metadata": {},
   "outputs": [],
   "source": [
    "import matplotlib.pyplot as plt\n",
    "import random"
   ]
  },
  {
   "cell_type": "code",
   "execution_count": 19,
   "metadata": {},
   "outputs": [],
   "source": [
    "def GenerateRandomWalkSequence(NodesCount = 7):\n",
    "    pos = (NodesCount - 1)/2\n",
    "    \n",
    "    r = [pos]\n",
    "    while(1):\n",
    "        if(random.random() > 0.5):\n",
    "            nextwalk = 1\n",
    "        else:\n",
    "            nextwalk = -1\n",
    "        \n",
    "        pos = pos + nextwalk\n",
    "        if(pos == NodesCount-1):\n",
    "            z = 1\n",
    "            break\n",
    "        elif(pos == 0):\n",
    "            z = 0\n",
    "            break\n",
    "        else:\n",
    "            r = r + [pos]\n",
    "\n",
    "    return r , z"
   ]
  },
  {
   "cell_type": "code",
   "execution_count": 51,
   "metadata": {},
   "outputs": [],
   "source": [
    "r,z = GenerateRandomWalkSequence()"
   ]
  },
  {
   "cell_type": "code",
   "execution_count": 52,
   "metadata": {},
   "outputs": [
    {
     "data": {
      "text/plain": [
       "([3.0, 2.0, 1.0], 0)"
      ]
     },
     "execution_count": 52,
     "metadata": {},
     "output_type": "execute_result"
    }
   ],
   "source": [
    "r,z\n",
    "\n"
   ]
  },
  {
   "cell_type": "code",
   "execution_count": null,
   "metadata": {},
   "outputs": [],
   "source": []
  }
 ],
 "metadata": {
  "kernelspec": {
   "display_name": "Python 3",
   "language": "python",
   "name": "python3"
  },
  "language_info": {
   "codemirror_mode": {
    "name": "ipython",
    "version": 3
   },
   "file_extension": ".py",
   "mimetype": "text/x-python",
   "name": "python",
   "nbconvert_exporter": "python",
   "pygments_lexer": "ipython3",
   "version": "3.6.1"
  }
 },
 "nbformat": 4,
 "nbformat_minor": 2
}
