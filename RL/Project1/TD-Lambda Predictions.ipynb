{
 "cells": [
  {
   "cell_type": "code",
   "execution_count": 19,
   "metadata": {},
   "outputs": [],
   "source": [
    "import random\n",
    "import matplotlib.pyplot as plt\n",
    "import numpy as np\n",
    "%matplotlib inline"
   ]
  },
  {
   "cell_type": "code",
   "execution_count": 27,
   "metadata": {},
   "outputs": [],
   "source": [
    "def GenerateRandomWalkSequence(NodesCount = 7):\n",
    "    pos = int((NodesCount - 1)/2)\n",
    "    \n",
    "    r = [pos]\n",
    "    while(1):\n",
    "        if(random.random() > 0.5):\n",
    "            nextwalk = 1\n",
    "        else:\n",
    "            nextwalk = -1\n",
    "        \n",
    "        pos = pos + nextwalk\n",
    "        if(pos == NodesCount-1):\n",
    "            z = 1\n",
    "            break\n",
    "        elif(pos == 0):\n",
    "            z = 0\n",
    "            break\n",
    "        else:\n",
    "            r = r + [pos]\n",
    "\n",
    "    return r , z"
   ]
  },
  {
   "cell_type": "code",
   "execution_count": 78,
   "metadata": {},
   "outputs": [],
   "source": [
    "def PredictionRandomWalk():\n",
    "    alpha = 0.2\n",
    "    nStates = 7\n",
    "    nTrainingSets = 100\n",
    "    nSequences = 10\n",
    "    lambdas = [0, 0.1, 0.3, 0.5, 0.7, 0.9, 1]\n",
    "    \n",
    "    optValues = np.arange(1,(nStates - 1))/(nStates - 1)\n",
    "    #print('TrueValues=', optValues)\n",
    "    totalRMS  = np.zeros((len(lambdas),1))\n",
    "    \n",
    "    for ti in range(nTrainingSets):\n",
    "        trainingSet = []\n",
    "        \n",
    "        for si in range(nSequences):\n",
    "            [r,z] = GenerateRandomWalkSequence(NodesCount=nStates)\n",
    "            trainingSet.append([r,z])\n",
    "        \n",
    "        for li in range(len(lambdas)):\n",
    "            w = 0.5 * np.ones((nStates,1))\n",
    "            w[ 0] = 0 \n",
    "            w[-1] = 1\n",
    "            #print('initial w = ',w)\n",
    "            for si in range(nSequences):\n",
    "                curSeq = trainingSet[si]\n",
    "                z = curSeq[1]\n",
    "                #print('z',z)\n",
    "                curSeq = curSeq[0]\n",
    "                #print(curSeq)\n",
    "                w = TDLambda(nStates, curSeq, z, w, alpha, lambdas[li])\n",
    "                #print('w for seq',si,'is',w)\n",
    "            rmsErr = VectorRMS(np.transpose(w[1:nStates-1]) - optValues)\n",
    "            #print('RMSE for lambda=',lambdas[li],'is',rmsErr)\n",
    "            totalRMS[li] = totalRMS[li] + rmsErr\n",
    "    \n",
    "    totalRMS = totalRMS / nTrainingSets\n",
    "    \n",
    "    plt.figure()\n",
    "    plt.plot(lambdas, totalRMS)\n",
    "    plt.show()\n",
    "    \n",
    "    return totalRMS"
   ]
  },
  {
   "cell_type": "code",
   "execution_count": 79,
   "metadata": {},
   "outputs": [],
   "source": [
    "from numpy import linalg as LA\n",
    "def VectorRMS(x):\n",
    "    rms = LA.norm(x)\n",
    "    rms = rms/(np.sqrt(5))\n",
    "    \n",
    "    return rms"
   ]
  },
  {
   "cell_type": "code",
   "execution_count": 80,
   "metadata": {},
   "outputs": [],
   "source": [
    "def TDLambda(NodesCount, seq, z, w0, alpha, lambda1):\n",
    "    w = w0\n",
    "    w2 = w.copy()\n",
    "    xt = GetObservationVector(NodesCount, seq[0])\n",
    "    #print('First xt',xt)\n",
    "    Pt = np.matmul(np.transpose(w),xt)\n",
    "    #print('First Pt=',Pt)\n",
    "    S = xt.copy()\n",
    "    for i in range(1,len(seq)):\n",
    "        xt = GetObservationVector(NodesCount, seq[i])\n",
    "        #print('xt[',i,']=',xt)\n",
    "        Pt_1 = Pt.copy()\n",
    "        Pt = np.matmul(np.transpose(w),xt)\n",
    "        #print('Next Pt',Pt)\n",
    "        dw = alpha * (Pt - Pt_1)*S\n",
    "        S = xt + (lambda1 * S)\n",
    "        #print('dw=',dw)\n",
    "        w2 = w2 + dw\n",
    "    \n",
    "    dw = alpha * (z - Pt)*S\n",
    "    w2 = w2 + dw\n",
    "    w = w2\n",
    "    \n",
    "    return w"
   ]
  },
  {
   "cell_type": "code",
   "execution_count": 81,
   "metadata": {},
   "outputs": [],
   "source": [
    "#TDLambda(7,[3,4,5,4,5],1,[[0],[0.5],[0.5],[0.5],[0.5],[0.5],[1]],0.2,0.1)"
   ]
  },
  {
   "cell_type": "code",
   "execution_count": 82,
   "metadata": {},
   "outputs": [],
   "source": [
    "def GetObservationVector(NodesCount,i):\n",
    "    xt = np.zeros((NodesCount,1))\n",
    "    xt[i] = 1\n",
    "    \n",
    "    return xt"
   ]
  },
  {
   "cell_type": "code",
   "execution_count": 83,
   "metadata": {},
   "outputs": [
    {
     "data": {
      "image/png": "[encoded data removed]",
      "text/plain": [
       "<matplotlib.figure.Figure at 0x12a9910>"
      ]
     },
     "metadata": {},
     "output_type": "display_data"
    },
    {
     "data": {
      "text/plain": [
       "array([[0.08625136],\n",
       "       [0.084746  ],\n",
       "       [0.08530902],\n",
       "       [0.09402643],\n",
       "       [0.11863219],\n",
       "       [0.19061055],\n",
       "       [0.32124798]])"
      ]
     },
     "execution_count": 83,
     "metadata": {},
     "output_type": "execute_result"
    }
   ],
   "source": [
    "PredictionRandomWalk()"
   ]
  },
  {
   "cell_type": "code",
   "execution_count": null,
   "metadata": {},
   "outputs": [],
   "source": []
  },
  {
   "cell_type": "code",
   "execution_count": null,
   "metadata": {},
   "outputs": [],
   "source": []
  }
 ],
 "metadata": {
  "kernelspec": {
   "display_name": "Python 3",
   "language": "python",
   "name": "python3"
  },
  "language_info": {
   "codemirror_mode": {
    "name": "ipython",
    "version": 3
   },
   "file_extension": ".py",
   "mimetype": "text/x-python",
   "name": "python",
   "nbconvert_exporter": "python",
   "pygments_lexer": "ipython3",
   "version": "3.6.1"
  }
 },
 "nbformat": 4,
 "nbformat_minor": 2
}
