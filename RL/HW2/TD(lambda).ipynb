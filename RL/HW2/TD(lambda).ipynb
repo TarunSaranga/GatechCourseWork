{
 "cells": [
  {
   "cell_type": "markdown",
   "metadata": {},
   "source": [
    "<img src=\"StateDiagram.jpg\">"
   ]
  },
  {
   "cell_type": "markdown",
   "metadata": {},
   "source": [
    "Ek = V[0] + alphaT (gamma^0 x rewards[1] + gamma^1 x rewards[2] + .... + gamma^k x V[0 + k] - V[0])"
   ]
  },
  {
   "cell_type": "markdown",
   "metadata": {},
   "source": [
    "p1 = probToState*(rewards[0] + valueEstimates[1] - valueEstimates[0])\n",
    "p2 = (1-probToState)*(rewards[1] + valueEstimates[2] -valueEstimates[0])\n",
    "E1 = valueEstimates[0] + p1 + p2\n",
    "E1"
   ]
  },
  {
   "cell_type": "code",
   "execution_count": 186,
   "metadata": {},
   "outputs": [],
   "source": [
    "probToState = 1\n",
    "valueEstimates = [0.0,0.0,-1.2,18.2,0.0,20.4,15.0] +[0,0,0,0,0,0,0,0,0,0,0,0,0,0,0,0]\n",
    "rewards = [9.1,5.7,-4.9,9.2,-1.0,6.1,5.9] + [0,0,0,0,0,0,0,0,0,0,0,0,0,0,0,0]"
   ]
  },
  {
   "cell_type": "code",
   "execution_count": 187,
   "metadata": {},
   "outputs": [],
   "source": [
    "E = []\n",
    "rewardsP1 = [rewards[0],rewards[2],rewards[4],rewards[5],rewards[6]] + [0,0,0,0,0,0,0,0,0,0,0,0,0,0,0,0]\n",
    "rewardsP2 = [rewards[1],rewards[3],rewards[4],rewards[5],rewards[6]] + [0,0,0,0,0,0,0,0,0,0,0,0,0,0,0,0]\n",
    "valueEstimatesP1 = [valueEstimates[1],valueEstimates[3],valueEstimates[4],valueEstimates[5],valueEstimates[6]] + [0,0,0,0,0,0,0,0,0,0,0,0,0,0,0,0]\n",
    "valueEstimatesP2 = [valueEstimates[2],valueEstimates[3],valueEstimates[4],valueEstimates[5],valueEstimates[6]] + [0,0,0,0,0,0,0,0,0,0,0,0,0,0,0,0]"
   ]
  },
  {
   "cell_type": "code",
   "execution_count": 188,
   "metadata": {
    "scrolled": false
   },
   "outputs": [
    {
     "name": "stdout",
     "output_type": "stream",
     "text": [
      "E 1 = 9.1\n",
      "\n",
      "E 2 = 22.4\n",
      "\n",
      "E 3 = 3.1999999999999993\n",
      "\n",
      "E 4 = 29.699999999999996\n",
      "\n",
      "E 5 = 30.2\n",
      "\n",
      "E 6 = 15.2\n",
      "\n",
      "E 7 = 15.2\n",
      "\n",
      "E 8 = 15.2\n",
      "\n"
     ]
    }
   ],
   "source": [
    "for i in range(0,8):\n",
    "    #print(\"Calculating E\",i+1)\n",
    "    sumRewardsP1 = 0\n",
    "    p1 = 0\n",
    "    for j in range(i+1):\n",
    "        sumRewardsP1 += (rewardsP1[j])\n",
    "        #print(\"rewards:\",rewardsP1[j])\n",
    "    #print(\"SumofRewardsP1 = \",sumRewardsP1)\n",
    "    p1 = probToState * (sumRewardsP1 + valueEstimatesP1[i] - valueEstimates[0])\n",
    "    #print(\"valueEstimatesP1[\",i,\"]=\",valueEstimatesP1[i])\n",
    "    #print(\"P1 = \",p1)\n",
    "    sumRewardsP2 = 0\n",
    "    p2 = 0\n",
    "    for j in range(i+1):\n",
    "        sumRewardsP2 += (rewardsP2[j])\n",
    "        #print(\"rewards:\",rewardsP2[j])\n",
    "    #print(\"SumofRewardsP2 = \",sumRewardsP2)\n",
    "    p2 = (1-probToState) * (sumRewardsP2 + valueEstimatesP2[i] - valueEstimates[0])\n",
    "    #print(\"valueEstimatesP2[\",i,\"]=\",valueEstimatesP2[i])\n",
    "    #print(\"P2 = \",p2)\n",
    "    E.append(valueEstimates[0] + p1 + p2)\n",
    "    print(\"E\",i+1,\"=\",E[i])\n",
    "    print()\n",
    "    \n"
   ]
  },
  {
   "cell_type": "code",
   "execution_count": 185,
   "metadata": {},
   "outputs": [
    {
     "data": {
      "text/plain": [
       "7.72"
      ]
     },
     "execution_count": 185,
     "metadata": {},
     "output_type": "execute_result"
    }
   ],
   "source": [
    "sumRewardsP1 = 0\n",
    "sumRewardsP2 = 0 \n",
    "for j in range(i+1):\n",
    "        sumRewardsP1 += (rewardsP1[j])\n",
    "for j in range(i+1):\n",
    "        sumRewardsP2 += (rewardsP2[j])\n",
    "\n",
    "p1 = probToState * (sumRewardsP1)\n",
    "p2 = (1-probToState) * (sumRewardsP2)\n",
    "        \n",
    "TD1 = p1 + p2\n",
    "\n",
    "\n",
    "TD1"
   ]
  },
  {
   "cell_type": "code",
   "execution_count": null,
   "metadata": {},
   "outputs": [],
   "source": [
    "solve ((((1-x)*-1.048) + ((1-x)*x*28.326) + (22.126*(1-x)*(x^2)) + (14.326*(1-x)*(x^3)) + (23.526*(1-x)(x^4)) +(11.226*(x^5)) ) =16.687)"
   ]
  }
 ],
 "metadata": {
  "kernelspec": {
   "display_name": "Python 3",
   "language": "python",
   "name": "python3"
  },
  "language_info": {
   "codemirror_mode": {
    "name": "ipython",
    "version": 3
   },
   "file_extension": ".py",
   "mimetype": "text/x-python",
   "name": "python",
   "nbconvert_exporter": "python",
   "pygments_lexer": "ipython3",
   "version": "3.6.1"
  }
 },
 "nbformat": 4,
 "nbformat_minor": 2
}
