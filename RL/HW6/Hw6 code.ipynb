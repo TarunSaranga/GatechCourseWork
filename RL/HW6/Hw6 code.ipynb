{
 "cells": [
  {
   "cell_type": "code",
   "execution_count": 57,
   "metadata": {
    "collapsed": true
   },
   "outputs": [],
   "source": [
    "from cvxopt import matrix, solvers"
   ]
  },
  {
   "cell_type": "code",
   "execution_count": 140,
   "metadata": {
    "collapsed": true
   },
   "outputs": [],
   "source": [
    "abc = [[0.0, 2.0, -1.77], [-2.0, 0.0, 1.0], [1.77, -1.0, 0.0]]"
   ]
  },
  {
   "cell_type": "code",
   "execution_count": 141,
   "metadata": {},
   "outputs": [],
   "source": [
    "j = [-abc[i][0] for i in range(3) ] + [1]\n",
    "k = [-abc[i][1] for i in range(3) ] + [1]\n",
    "l = [-abc[i][2] for i in range(3) ] + [1]"
   ]
  },
  {
   "cell_type": "code",
   "execution_count": 142,
   "metadata": {},
   "outputs": [],
   "source": [
    "c  = matrix([1.,0.,0.,0.])\n",
    "G  = matrix([[1.,1.,1.,0], j, k, l])\n",
    "h  = matrix([0.,0.,0.,1.])"
   ]
  },
  {
   "cell_type": "code",
   "execution_count": 143,
   "metadata": {},
   "outputs": [
    {
     "name": "stdout",
     "output_type": "stream",
     "text": [
      "     pcost       dcost       gap    pres   dres   k/t\n",
      " 0: -1.5750e-18 -1.4193e+00  5e+00  2e+00  5e+00  1e+00\n",
      " 1: -9.9000e+01 -1.4193e+00  5e+02  2e+00  5e+00  1e+02\n",
      " 2: -9.9990e+03 -1.4193e+00  5e+04  2e+00  5e+00  1e+04\n",
      " 3: -1.0000e+06 -1.4193e+00  5e+06  2e+00  5e+00  1e+06\n",
      " 4: -1.0000e+08 -1.4193e+00  5e+08  2e+00  5e+00  1e+08\n",
      "Certificate of dual infeasibility found.\n"
     ]
    }
   ],
   "source": [
    "solution = solvers.lp(c,G,h,);"
   ]
  },
  {
   "cell_type": "code",
   "execution_count": 144,
   "metadata": {},
   "outputs": [
    {
     "name": "stdout",
     "output_type": "stream",
     "text": [
      "[-1.00e+00]\n",
      "[-2.10e-01]\n",
      "[-3.71e-01]\n",
      "[-4.19e-01]\n",
      "\n"
     ]
    }
   ],
   "source": [
    "print(solution['x'])"
   ]
  },
  {
   "cell_type": "code",
   "execution_count": null,
   "metadata": {
    "collapsed": true
   },
   "outputs": [],
   "source": []
  }
 ],
 "metadata": {
  "kernelspec": {
   "display_name": "Python 3",
   "language": "python",
   "name": "python3"
  },
  "language_info": {
   "codemirror_mode": {
    "name": "ipython",
    "version": 3
   },
   "file_extension": ".py",
   "mimetype": "text/x-python",
   "name": "python",
   "nbconvert_exporter": "python",
   "pygments_lexer": "ipython3",
   "version": "3.6.3"
  }
 },
 "nbformat": 4,
 "nbformat_minor": 2
}
