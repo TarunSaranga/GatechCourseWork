{
 "cells": [
  {
   "cell_type": "code",
   "execution_count": null,
   "metadata": {},
   "outputs": [],
   "source": [
    "# ----------\n",
    "# Background\n",
    "# \n",
    "# A robotics company named Trax has created a line of small self-driving robots \n",
    "# designed to autonomously traverse desert environments in search of undiscovered\n",
    "# water deposits.\n",
    "#\n",
    "# A Traxbot looks like a small tank. Each one is about half a meter long and drives\n",
    "# on two continuous metal tracks. In order to maneuver itself, a Traxbot can do one\n",
    "# of two things: it can drive in a straight line or it can turn. So to make a \n",
    "# right turn, A Traxbot will drive forward, stop, turn 90 degrees, then continue\n",
    "# driving straight.\n",
    "#\n",
    "# This series of questions involves the recovery of a rogue Traxbot. This bot has \n",
    "# gotten lost somewhere in the desert and is now stuck driving in an almost-circle: it has\n",
    "# been repeatedly driving forward by some step size, stopping, turning a certain \n",
    "# amount, and repeating this process... Luckily, the Traxbot is still sending all\n",
    "# of its sensor data back to headquarters.\n",
    "#\n",
    "# In this project, we will start with a simple version of this problem and \n",
    "# gradually add complexity. By the end, you will have a fully articulated\n",
    "# plan for recovering the lost Traxbot.\n",
    "# \n",
    "# ----------\n",
    "# Part One\n",
    "#\n",
    "# Let's start by thinking about circular motion (well, really it's polygon motion\n",
    "# that is close to circular motion). Assume that Traxbot lives on \n",
    "# an (x, y) coordinate plane and (for now) is sending you PERFECTLY ACCURATE sensor \n",
    "# measurements. \n",
    "#\n",
    "# With a few measurements you should be able to figure out the step size and the \n",
    "# turning angle that Traxbot is moving with.\n",
    "# With these two pieces of information, you should be able to \n",
    "# write a function that can predict Traxbot's next location.\n",
    "#\n",
    "# You can use the robot class that is already written to make your life easier. \n",
    "# You should re-familiarize yourself with this class, since some of the details\n",
    "# have changed. \n",
    "#\n",
    "# ----------\n",
    "# YOUR JOB\n",
    "#\n",
    "# Complete the estimate_next_pos function. You will probably want to use\n",
    "# the OTHER variable to keep track of information about the runaway robot.\n",
    "#\n",
    "# ----------\n",
    "# GRADING\n",
    "# \n",
    "# We will make repeated calls to your estimate_next_pos function. After\n",
    "# each call, we will compare your estimated position to the robot's true\n",
    "# position. As soon as you are within 0.01 stepsizes of the true position,\n",
    "# you will be marked correct and we will tell you how many steps it took\n",
    "# before your function successfully located the target bot.\n",
    "\n",
    "# These import steps give you access to libraries which you may (or may\n",
    "# not) want to use."
   ]
  },
  {
   "cell_type": "code",
   "execution_count": 1,
   "metadata": {},
   "outputs": [],
   "source": [
    "from robot import *\n",
    "from math import *\n",
    "#from matrix import *\n",
    "import random"
   ]
  },
  {
   "cell_type": "code",
   "execution_count": 2,
   "metadata": {},
   "outputs": [],
   "source": [
    "# This is the function you have to write. The argument 'measurement' is a \n",
    "# single (x, y) point. This function will have to be called multiple\n",
    "# times before you have enough information to accurately predict the\n",
    "# next position. The OTHER variable that your function returns will be \n",
    "# passed back to your function the next time it is called. You can use\n",
    "# this to keep track of important information over time.\n",
    "def estimate_next_pos(measurement, OTHER = None):\n",
    "    \"\"\"Estimate the next (x, y) position of the wandering Traxbot\n",
    "    based on noisy (x, y) measurements.\"\"\"\n",
    "    dt = 0.1\n",
    "\n",
    "    x = matrix([[initial_xy[0]], [initial_xy[1]], [0.], [0.]]) # initial state (location and velocity)\n",
    "    u = matrix([[0.], [0.], [0.], [0.]]) # external motion\n",
    "\n",
    "    #### DO NOT MODIFY ANYTHING ABOVE HERE ####\n",
    "    #### fill this in, remember to use the matrix() function!: ####\n",
    "\n",
    "    P = matrix([[0,0,0,0],[0,0,0,0],[0,0,1000,0],[0,0,0,1000]])  # initial uncertainty: 0 for positions x and y, 1000 for the two velocities\n",
    "    F = matrix([[1,0,dt,0],[0,1,0,dt],[0,0,1,0],[0,0,0,1]]) # next state function: generalize the 2d version to 4d\n",
    "    H = matrix([[1,0,0,0],[0,1,0,0]]) # measurement function: reflect the fact that we observe x and y but not the two velocities\n",
    "    R = matrix([[0.1,0],[0,0.1]]) # measurement uncertainty: use 2x2 matrix with 0.1 as main diagonal\n",
    "    I = matrix([[1,0,0,0],[0,1,0,0],[0,0,1,0],[0,0,0,1]]) # 4d identity matrix\n",
    "    \n",
    "    \n",
    "    # You must return xy_estimate (x, y), and OTHER (even if it is None) \n",
    "    # in this order for grading purposes.\n",
    "    return xy_estimate, OTHER "
   ]
  },
  {
   "cell_type": "code",
   "execution_count": 3,
   "metadata": {},
   "outputs": [],
   "source": [
    "# A helper function you may find useful.\n",
    "def distance_between(point1, point2):\n",
    "    \"\"\"Computes distance between point1 and point2. Points are (x, y) pairs.\"\"\"\n",
    "    x1, y1 = point1\n",
    "    x2, y2 = point2\n",
    "    return sqrt((x2 - x1) ** 2 + (y2 - y1) ** 2)"
   ]
  },
  {
   "cell_type": "code",
   "execution_count": 4,
   "metadata": {},
   "outputs": [],
   "source": [
    "# This is here to give you a sense for how we will be running and grading\n",
    "# your code. Note that the OTHER variable allows you to store any \n",
    "# information that you want. \n",
    "def demo_grading(estimate_next_pos_fcn, target_bot, OTHER = None):\n",
    "    localized = False\n",
    "    distance_tolerance = 0.01 * target_bot.distance\n",
    "    ctr = 0\n",
    "    # if you haven't localized the target bot, make a guess about the next\n",
    "    # position, then we move the bot and compare your guess to the true\n",
    "    # next position. When you are close enough, we stop checking.\n",
    "    #For Visualization\n",
    "    import turtle    #You need to run this locally to use the turtle module\n",
    "    window = turtle.Screen()\n",
    "    window.bgcolor('white')\n",
    "    size_multiplier= 25.0  #change Size of animation\n",
    "    broken_robot = turtle.Turtle()\n",
    "    broken_robot.shape('turtle')\n",
    "    broken_robot.color('green')\n",
    "    broken_robot.resizemode('user')\n",
    "    broken_robot.shapesize(0.1, 0.1, 0.1)\n",
    "    measured_broken_robot = turtle.Turtle()\n",
    "    measured_broken_robot.shape('circle')\n",
    "    measured_broken_robot.color('red')\n",
    "    measured_broken_robot.resizemode('user')\n",
    "    measured_broken_robot.shapesize(0.1, 0.1, 0.1)\n",
    "    prediction = turtle.Turtle()\n",
    "    prediction.shape('arrow')\n",
    "    prediction.color('blue')\n",
    "    prediction.resizemode('user')\n",
    "    prediction.shapesize(0.1, 0.1, 0.1)\n",
    "    prediction.penup()\n",
    "    broken_robot.penup()\n",
    "    measured_broken_robot.penup()\n",
    "    #End of Visualization\n",
    "    while not localized and ctr <= 10:\n",
    "        ctr += 1\n",
    "        measurement = target_bot.sense()\n",
    "        position_guess, OTHER = estimate_next_pos_fcn(measurement, OTHER)\n",
    "        target_bot.move_in_circle()\n",
    "        true_position = (target_bot.x, target_bot.y)\n",
    "        #print(position_guess)\n",
    "        #print(true_position)\n",
    "        #print()\n",
    "        error = distance_between(position_guess, true_position)\n",
    "        if error <= distance_tolerance:\n",
    "            print(\"You got it right! It took you \", ctr, \" steps to localize.\")\n",
    "            localized = True\n",
    "        if ctr == 10:\n",
    "            print(\"Sorry, it took you too many steps to localize the target.\")\n",
    "        #More Visualization\n",
    "        measured_broken_robot.setheading(target_bot.heading*180/pi)\n",
    "        measured_broken_robot.goto(measurement[0]*size_multiplier, measurement[1]*size_multiplier-200)\n",
    "        measured_broken_robot.stamp()\n",
    "        broken_robot.setheading(target_bot.heading*180/pi)\n",
    "        broken_robot.goto(target_bot.x*size_multiplier, target_bot.y*size_multiplier-200)\n",
    "        broken_robot.stamp()\n",
    "        prediction.setheading(target_bot.heading*180/pi)\n",
    "        prediction.goto(position_guess[0]*size_multiplier, position_guess[1]*size_multiplier-200)\n",
    "        prediction.stamp()\n",
    "        #End of Visualization\n",
    "    window.bye()\n",
    "    return localized"
   ]
  },
  {
   "cell_type": "code",
   "execution_count": 5,
   "metadata": {},
   "outputs": [],
   "source": [
    "# This is a demo for what a strategy could look like. This one isn't very good.\n",
    "def naive_next_pos(measurement, OTHER = None):\n",
    "    \"\"\"This strategy records the first reported position of the target and\n",
    "    assumes that eventually the target bot will eventually return to that \n",
    "    position, so it always guesses that the first position will be the next.\"\"\"\n",
    "    if not OTHER: # this is the first measurement\n",
    "        OTHER = measurement\n",
    "    xy_estimate = OTHER \n",
    "    return xy_estimate, OTHER"
   ]
  },
  {
   "cell_type": "code",
   "execution_count": 6,
   "metadata": {},
   "outputs": [
    {
     "name": "stdout",
     "output_type": "stream",
     "text": [
      "Sorry, it took you too many steps to localize the target.\n"
     ]
    },
    {
     "data": {
      "text/plain": [
       "False"
      ]
     },
     "execution_count": 6,
     "metadata": {},
     "output_type": "execute_result"
    }
   ],
   "source": [
    "# This is how we create a target bot. Check the robot.py file to understand\n",
    "# How the robot class behaves.\n",
    "test_target = robot(2.1, 4.3, 0.5, 2*pi / 34.0, 1.5)\n",
    "test_target.set_noise(0.0, 0.0, 0.0)\n",
    "\n",
    "demo_grading(estimate_next_pos, test_target)\n",
    "#position_guess,OTHER = estimate_next_pos(test_target.sense(), OTHER=None)\n",
    "#print(test_target.sense())\n",
    "#print(position_guess)"
   ]
  },
  {
   "cell_type": "code",
   "execution_count": null,
   "metadata": {},
   "outputs": [],
   "source": []
  },
  {
   "cell_type": "code",
   "execution_count": null,
   "metadata": {},
   "outputs": [],
   "source": []
  },
  {
   "cell_type": "code",
   "execution_count": null,
   "metadata": {},
   "outputs": [],
   "source": []
  }
 ],
 "metadata": {
  "kernelspec": {
   "display_name": "Python 3",
   "language": "python",
   "name": "python3"
  },
  "language_info": {
   "codemirror_mode": {
    "name": "ipython",
    "version": 3
   },
   "file_extension": ".py",
   "mimetype": "text/x-python",
   "name": "python",
   "nbconvert_exporter": "python",
   "pygments_lexer": "ipython3",
   "version": "3.6.1"
  }
 },
 "nbformat": 4,
 "nbformat_minor": 2
}
